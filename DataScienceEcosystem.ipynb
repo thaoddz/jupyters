{
 "cells": [
  {
   "cell_type": "markdown",
   "id": "4a677259-4739-496a-b98a-a996a28bb0fb",
   "metadata": {},
   "source": [
    "# Data Science Tools and Ecosystem"
   ]
  },
  {
   "cell_type": "markdown",
   "id": "3d9b4f90-765e-42ca-8bb9-aa5ca4a4e494",
   "metadata": {},
   "source": [
    "In this notebook, Data Science Tools and Ecosystem are summarized."
   ]
  },
  {
   "cell_type": "markdown",
   "id": "4e2f843f-dcea-4fee-b141-730d09573b33",
   "metadata": {},
   "source": [
    "## Some of the popular languages that Data Scientists use are \n",
    "1. PYTHON\n",
    "2. SQL\n",
    "   "
   ]
  },
  {
   "cell_type": "markdown",
   "id": "32f476fc-ff67-4dda-b896-7122dc0962c5",
   "metadata": {},
   "source": [
    "Some of the commonly used libraries used by Data Scientists include\n",
    "1. NUMPY\n",
    "2. PANDAS\n",
    "3. TENSORFLOW\n",
    "4. PYTORCH\n",
    "   "
   ]
  },
  {
   "cell_type": "markdown",
   "id": "00ea0cee-f970-458c-9494-de968ea316ab",
   "metadata": {},
   "source": [
    "Data Science Tools\n",
    "|Jupyter notebook| Rstudio | excell\n"
   ]
  },
  {
   "cell_type": "markdown",
   "id": "90716f48-3648-4f43-bad0-f870fc348bd9",
   "metadata": {},
   "source": [
    "### Below are a few examples of evaluating arithmetic expressions in Python"
   ]
  },
  {
   "cell_type": "code",
   "execution_count": 20,
   "id": "bc3e3e82-44fb-4aee-acf7-7b4d7051a5cb",
   "metadata": {},
   "outputs": [
    {
     "data": {
      "text/plain": [
       "17"
      ]
     },
     "execution_count": 20,
     "metadata": {},
     "output_type": "execute_result"
    }
   ],
   "source": [
    "(3*4)+5"
   ]
  },
  {
   "cell_type": "raw",
   "id": "44e94f87-91be-43e6-9899-c6e4efd9c886",
   "metadata": {},
   "source": [
    " This a simple arithmetic expression to mutiply then add integers"
   ]
  },
  {
   "cell_type": "code",
   "execution_count": 21,
   "id": "ef514478-bfc3-4359-8bed-3c818e097f7a",
   "metadata": {},
   "outputs": [
    {
     "data": {
      "text/plain": [
       "17"
      ]
     },
     "execution_count": 21,
     "metadata": {},
     "output_type": "execute_result"
    }
   ],
   "source": [
    "(3*4)+5"
   ]
  },
  {
   "cell_type": "raw",
   "id": "a99730c5-450b-4a39-9f0b-e168a870acd0",
   "metadata": {},
   "source": [
    "This will convert 200 minutes to hours by diving by 60"
   ]
  },
  {
   "cell_type": "code",
   "execution_count": 22,
   "id": "6f90bd4b-be55-4e11-b1dd-8dd0495e5109",
   "metadata": {},
   "outputs": [
    {
     "data": {
      "text/plain": [
       "3.3333333333333335"
      ]
     },
     "execution_count": 22,
     "metadata": {},
     "output_type": "execute_result"
    }
   ],
   "source": [
    "minutes = 200\n",
    "hours = minutes / 60\n",
    "hours"
   ]
  },
  {
   "cell_type": "markdown",
   "id": "54a5e325-c3b5-43ec-83fe-6cfd0c063bdd",
   "metadata": {},
   "source": [
    "# Objectives\n",
    "* Data Science Tools\n",
    "* libraries\n",
    "* languages"
   ]
  },
  {
   "cell_type": "raw",
   "id": "5f4201f2-52bb-4480-96b4-6f59f1ae2457",
   "metadata": {},
   "source": [
    "Author"
   ]
  },
  {
   "cell_type": "markdown",
   "id": "785c94ce-3624-4ffe-9ec4-dd2a4460d14c",
   "metadata": {},
   "source": [
    "# JOSHUA.H"
   ]
  }
 ],
 "metadata": {
  "kernelspec": {
   "display_name": "Python 3 (ipykernel)",
   "language": "python",
   "name": "python3"
  },
  "language_info": {
   "codemirror_mode": {
    "name": "ipython",
    "version": 3
   },
   "file_extension": ".py",
   "mimetype": "text/x-python",
   "name": "python",
   "nbconvert_exporter": "python",
   "pygments_lexer": "ipython3",
   "version": "3.11.7"
  }
 },
 "nbformat": 4,
 "nbformat_minor": 5
}
